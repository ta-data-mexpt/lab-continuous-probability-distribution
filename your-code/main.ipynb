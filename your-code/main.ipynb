{
 "cells": [
  {
   "cell_type": "markdown",
   "metadata": {},
   "source": [
    "# Before your start:\n",
    "\n",
    "    Read the README.md file\n",
    "    Comment as much as you can and use the resources (README.md file)\n",
    "    Happy learning!"
   ]
  },
  {
   "cell_type": "markdown",
   "metadata": {},
   "source": [
    "In this exercise, we  will generate random numbers from the continuous disributions we learned in the lesson. There are two ways to generate random numbers:\n",
    "\n",
    "1. Using the numpy library \n",
    "1. using the Scipy library \n",
    "\n",
    "Use either or both of the lbraries in this exercise."
   ]
  },
  {
   "cell_type": "markdown",
   "metadata": {},
   "source": [
    "## Uniform Distribution\n",
    "\n",
    "To generate uniform random numbers between any two given values using scipy, we can either use the following code or the code that we have\n",
    "discussed in class:"
   ]
  },
  {
   "cell_type": "code",
   "execution_count": 1,
   "metadata": {},
   "outputs": [
    {
     "name": "stdout",
     "output_type": "stream",
     "text": [
      "[2.02618055 2.62434536 2.22057649 2.55049326 2.62915381 2.18143612\n",
      " 2.85326014 2.44210737 2.66431667 2.76503662]\n"
     ]
    }
   ],
   "source": [
    "from scipy.stats import uniform\n",
    "x = uniform.rvs(size=10)\n",
    "a = 2\n",
    "b = 3\n",
    "randoms  = a + (b-a)*x\n",
    "print(randoms)"
   ]
  },
  {
   "cell_type": "markdown",
   "metadata": {},
   "source": [
    "**Your task:**\n",
    "\n",
    "1. Based on the code above, write a function that generates uniformly distributed random numbers. There are several requirements for your function:\n",
    "    * It should accept 3 parameters: \n",
    "        * `bottom` - the lower boundary of the generated numbers\n",
    "        * `ceiling` - the upper boundary of the generated numbers\n",
    "        * `count` - how many numbers to generate\n",
    "    * It should return an array of uniformly distributed random numbers\n",
    "\n",
    "1. Call your function with 2 sets of params below:\n",
    "    * bottom=10, ceiling=15, count=100\n",
    "    * bottom=10, ceiling=60, count=1,000\n",
    "\n",
    "1. Plot the uniform distributions generated above using histograms, where x axis is the value and y axis is the count. Let the histogram's number of bins be 10.\n",
    "\n",
    "Your output should look like below:\n",
    "\n",
    "![uniform distribution](ud.png)"
   ]
  },
  {
   "cell_type": "code",
   "execution_count": 9,
   "metadata": {},
   "outputs": [
    {
     "data": {
      "image/png": "[encoded data removed]",
      "text/plain": [
       "<Figure size 432x288 with 2 Axes>"
      ]
     },
     "metadata": {
      "needs_background": "light"
     },
     "output_type": "display_data"
    }
   ],
   "source": [
    "# your code here\n",
    "from scipy.stats import uniform\n",
    "import matplotlib.pyplot as plt\n",
    "import numpy as np\n",
    "\n",
    "\n",
    "def uni(bottom, ceiling, count):\n",
    "    x = uniform.rvs(loc=bottom, scale=(ceiling-bottom), size=count, random_state=20)\n",
    "    return x\n",
    "\n",
    "fig, axis = plt.subplots(1,2, sharey=True)\n",
    "axis[0].hist(uni(bottom=10, ceiling=15, count=100))\n",
    "plt.xticks(np.arange(10, 16, step=0.5))\n",
    "axis[1].hist(uni(bottom=10, ceiling=60, count=1000))\n",
    "plt.xticks(np.arange(10, 70, step=10))\n",
    "plt.show()"
   ]
  },
  {
   "cell_type": "markdown",
   "metadata": {},
   "source": [
    "How are the two distributions different?"
   ]
  },
  {
   "cell_type": "code",
   "execution_count": null,
   "metadata": {},
   "outputs": [],
   "source": [
    "# your answer below\n",
    "\n",
    "'''La diferencia radica en el numero de intervalos, pero la distribucion sigue siendo continua\n",
    "y toma todos los valores probables'''"
   ]
  },
  {
   "cell_type": "markdown",
   "metadata": {},
   "source": [
    "## Normal Distribution\n",
    "\n",
    "1. In the same way in the Uniform Distribution challenge, write a function that generates normally distributed random numbers.\n",
    "1. Generate 1,000 normally distributed numbers with the average of 10 and standard deviation of 1\n",
    "1. Generate 1,000 normally distributed numbers with the average of 10 and standard deviation of 50\n",
    "2. Plot the distributions of the data generated.\n",
    "\n",
    "Expected output:\n",
    "\n",
    "![normal distribution](nd.png)"
   ]
  },
  {
   "cell_type": "code",
   "execution_count": 13,
   "metadata": {},
   "outputs": [
    {
     "data": {
      "image/png": "[encoded data removed]",
      "text/plain": [
       "<Figure size 432x288 with 2 Axes>"
      ]
     },
     "metadata": {
      "needs_background": "light"
     },
     "output_type": "display_data"
    }
   ],
   "source": [
    "# your code here\n",
    "\n",
    "def normal(mean,stdev,x):\n",
    "    return np.random.normal(loc=mean,scale=stdev,size=x)\n",
    "\n",
    "\n",
    "fig, axis = plt.subplots(1,2, sharey=True)\n",
    "axis[0].hist(normal(10,1,1000), bins = 50)\n",
    "axis[1].hist(normal(10,50,1000),bins= 50)\n",
    "plt.show()"
   ]
  },
  {
   "cell_type": "markdown",
   "metadata": {},
   "source": [
    "How are the two distributions different?"
   ]
  },
  {
   "cell_type": "code",
   "execution_count": null,
   "metadata": {},
   "outputs": [],
   "source": [
    "# your answer below\n",
    "'''Para este caso, en distribuciones con mayor desviacion muestran valores con un mayor intervalo'''"
   ]
  },
  {
   "cell_type": "markdown",
   "metadata": {},
   "source": [
    "## Normal Distribution of Real Data\n",
    "\n",
    "In this challenge we are going to take a look the real data. We will use vehicles.csv file for this exercise"
   ]
  },
  {
   "cell_type": "markdown",
   "metadata": {},
   "source": [
    "First import vehicles.csv.\n",
    "Then plot the histograms for the following variables:\n",
    "\n",
    "1. Fuel Barrels/Year"
   ]
  },
  {
   "cell_type": "code",
   "execution_count": 24,
   "metadata": {},
   "outputs": [
    {
     "data": {
      "text/plain": [
       "(array([6.000e+01, 5.000e+00, 6.000e+00, 1.000e+01, 1.400e+01, 4.000e+01,\n",
       "        1.670e+02, 1.530e+02, 6.800e+02, 1.524e+03, 1.724e+03, 2.837e+03,\n",
       "        4.048e+03, 6.200e+03, 3.262e+03, 3.529e+03, 2.308e+03, 2.305e+03,\n",
       "        2.275e+03, 2.078e+03, 8.600e+01, 1.275e+03, 0.000e+00, 7.350e+02,\n",
       "        0.000e+00, 4.390e+02, 0.000e+00, 1.300e+02, 0.000e+00, 0.000e+00,\n",
       "        0.000e+00, 3.600e+01, 0.000e+00, 0.000e+00, 2.100e+01, 0.000e+00,\n",
       "        0.000e+00, 0.000e+00, 0.000e+00, 5.000e+00]),\n",
       " array([ 0.06      ,  1.23567857,  2.41135714,  3.58703571,  4.76271429,\n",
       "         5.93839286,  7.11407143,  8.28975   ,  9.46542857, 10.64110714,\n",
       "        11.81678571, 12.99246429, 14.16814286, 15.34382143, 16.5195    ,\n",
       "        17.69517857, 18.87085714, 20.04653571, 21.22221429, 22.39789286,\n",
       "        23.57357143, 24.74925   , 25.92492857, 27.10060714, 28.27628571,\n",
       "        29.45196429, 30.62764286, 31.80332143, 32.979     , 34.15467857,\n",
       "        35.33035714, 36.50603571, 37.68171429, 38.85739286, 40.03307143,\n",
       "        41.20875   , 42.38442857, 43.56010714, 44.73578571, 45.91146429,\n",
       "        47.08714286]),\n",
       " <BarContainer object of 40 artists>)"
      ]
     },
     "execution_count": 24,
     "metadata": {},
     "output_type": "execute_result"
    },
    {
     "data": {
      "image/png": "[encoded data removed]",
      "text/plain": [
       "<Figure size 432x288 with 1 Axes>"
      ]
     },
     "metadata": {
      "needs_background": "light"
     },
     "output_type": "display_data"
    }
   ],
   "source": [
    "# your code here\n",
    "import pandas as pd\n",
    "df = pd.read_csv('vehicles.csv')\n",
    "plt.hist(df['Fuel Barrels/Year'],bins=40)"
   ]
  },
  {
   "cell_type": "markdown",
   "metadata": {},
   "source": [
    "2. CO2 Emission Grams/Mile "
   ]
  },
  {
   "cell_type": "code",
   "execution_count": 22,
   "metadata": {},
   "outputs": [
    {
     "data": {
      "text/plain": [
       "(array([5.000e+00, 8.000e+00, 1.200e+01, 9.000e+00, 4.200e+01, 1.070e+02,\n",
       "        1.770e+02, 5.060e+02, 1.228e+03, 2.194e+03, 2.825e+03, 3.958e+03,\n",
       "        3.369e+03, 6.052e+03, 3.649e+03, 2.341e+03, 2.311e+03, 2.190e+02,\n",
       "        2.327e+03, 1.968e+03, 1.240e+03, 3.600e+01, 7.250e+02, 9.000e+00,\n",
       "        9.000e+00, 4.340e+02, 3.000e+00, 1.270e+02, 0.000e+00, 0.000e+00,\n",
       "        3.600e+01, 0.000e+00, 0.000e+00, 0.000e+00, 2.100e+01, 0.000e+00,\n",
       "        0.000e+00, 0.000e+00, 0.000e+00, 5.000e+00]),\n",
       " array([  37.        ,   67.81428571,   98.62857143,  129.44285714,\n",
       "         160.25714286,  191.07142857,  221.88571429,  252.7       ,\n",
       "         283.51428571,  314.32857143,  345.14285714,  375.95714286,\n",
       "         406.77142857,  437.58571429,  468.4       ,  499.21428571,\n",
       "         530.02857143,  560.84285714,  591.65714286,  622.47142857,\n",
       "         653.28571429,  684.1       ,  714.91428571,  745.72857143,\n",
       "         776.54285714,  807.35714286,  838.17142857,  868.98571429,\n",
       "         899.8       ,  930.61428571,  961.42857143,  992.24285714,\n",
       "        1023.05714286, 1053.87142857, 1084.68571429, 1115.5       ,\n",
       "        1146.31428571, 1177.12857143, 1207.94285714, 1238.75714286,\n",
       "        1269.57142857]),\n",
       " <BarContainer object of 40 artists>)"
      ]
     },
     "execution_count": 22,
     "metadata": {},
     "output_type": "execute_result"
    },
    {
     "data": {
      "image/png": "[encoded data removed]",
      "text/plain": [
       "<Figure size 432x288 with 1 Axes>"
      ]
     },
     "metadata": {
      "needs_background": "light"
     },
     "output_type": "display_data"
    }
   ],
   "source": [
    "# your code here\n",
    "plt.hist(df['CO2 Emission Grams/Mile'],bins=40)"
   ]
  },
  {
   "cell_type": "markdown",
   "metadata": {},
   "source": [
    "3. Combined MPG"
   ]
  },
  {
   "cell_type": "code",
   "execution_count": 23,
   "metadata": {},
   "outputs": [
    {
     "data": {
      "text/plain": [
       "(array([2.600e+01, 4.000e+01, 1.310e+02, 4.410e+02, 1.996e+03, 1.947e+03,\n",
       "        2.241e+03, 2.315e+03, 5.979e+03, 3.282e+03, 3.093e+03, 3.158e+03,\n",
       "        2.247e+03, 3.340e+03, 1.278e+03, 1.067e+03, 6.920e+02, 1.092e+03,\n",
       "        3.710e+02, 2.610e+02, 1.690e+02, 1.760e+02, 2.330e+02, 5.800e+01,\n",
       "        4.100e+01, 4.300e+01, 8.800e+01, 3.800e+01, 3.700e+01, 7.000e+00,\n",
       "        5.000e+00, 1.600e+01, 1.600e+01, 2.000e+00, 0.000e+00, 1.500e+01,\n",
       "        5.000e+00, 4.000e+00, 0.000e+00, 2.000e+00]),\n",
       " array([ 7.   ,  8.225,  9.45 , 10.675, 11.9  , 13.125, 14.35 , 15.575,\n",
       "        16.8  , 18.025, 19.25 , 20.475, 21.7  , 22.925, 24.15 , 25.375,\n",
       "        26.6  , 27.825, 29.05 , 30.275, 31.5  , 32.725, 33.95 , 35.175,\n",
       "        36.4  , 37.625, 38.85 , 40.075, 41.3  , 42.525, 43.75 , 44.975,\n",
       "        46.2  , 47.425, 48.65 , 49.875, 51.1  , 52.325, 53.55 , 54.775,\n",
       "        56.   ]),\n",
       " <BarContainer object of 40 artists>)"
      ]
     },
     "execution_count": 23,
     "metadata": {},
     "output_type": "execute_result"
    },
    {
     "data": {
      "image/png": "[encoded data removed]",
      "text/plain": [
       "<Figure size 432x288 with 1 Axes>"
      ]
     },
     "metadata": {
      "needs_background": "light"
     },
     "output_type": "display_data"
    }
   ],
   "source": [
    "# your code here\n",
    "plt.hist(df['Combined MPG'],bins=40)"
   ]
  },
  {
   "cell_type": "markdown",
   "metadata": {},
   "source": [
    "Which one(s) of the variables are nearly normally distributed? How do you know?"
   ]
  },
  {
   "cell_type": "code",
   "execution_count": null,
   "metadata": {},
   "outputs": [],
   "source": [
    "# your answer here\n",
    "'''La variable de Fuel Barrels/Year es la que tiene una distribucion mas normal, la forma\n",
    "en la que uno se puede dar cuenta es la tendencia de los datos a estar mas centrales'''"
   ]
  },
  {
   "cell_type": "markdown",
   "metadata": {},
   "source": [
    "## Exponential Distribution"
   ]
  },
  {
   "cell_type": "markdown",
   "metadata": {},
   "source": [
    "1. Using `numpy.random.exponential`, create a function that returns a list of numbers exponentially distributed with the mean of 10. \n",
    "\n",
    "1. Use the function to generate two number sequences with the size of 1 and 100.\n",
    "\n",
    "1. Plot the distributions as histograms with the nubmer of bins as 100.\n",
    "\n",
    "Your output should look like below:\n",
    "\n",
    "![exponential distribution](ed.png)"
   ]
  },
  {
   "cell_type": "code",
   "execution_count": 26,
   "metadata": {},
   "outputs": [
    {
     "data": {
      "text/plain": [
       "array([126.89996335])"
      ]
     },
     "execution_count": 26,
     "metadata": {},
     "output_type": "execute_result"
    }
   ],
   "source": [
    "# your code here\n",
    "def expo(x):\n",
    "    return np.random.exponential(10, size=x)\n",
    "\n",
    "np.random.exponential(500, size=1)"
   ]
  },
  {
   "cell_type": "markdown",
   "metadata": {},
   "source": [
    "How are the two distributions different?"
   ]
  },
  {
   "cell_type": "code",
   "execution_count": 27,
   "metadata": {},
   "outputs": [
    {
     "data": {
      "image/png": "[encoded data removed]",
      "text/plain": [
       "<Figure size 432x288 with 2 Axes>"
      ]
     },
     "metadata": {
      "needs_background": "light"
     },
     "output_type": "display_data"
    }
   ],
   "source": [
    "# your answer here\n",
    "fig, axis = plt.subplots(1,2, sharey=True)\n",
    "axis[0].hist(expo(1), bins = 100)\n",
    "axis[1].hist(expo(100),bins= 100)\n",
    "plt.show()\n",
    "\n",
    "'''Son diferentes en el valor de tiempo entre eventos, uno es a 1 unidad y el otro a 100 unidades\n",
    "por evento'''"
   ]
  },
  {
   "cell_type": "markdown",
   "metadata": {},
   "source": [
    "## Exponential Distribution of Real Data\n",
    "\n",
    "Suppose that the amount of time one spends in a bank is exponentially distributed with mean as 10 minutes (i.e. λ = 1/10). What is the probability that a customer will spend less than fifteen minutes in the bank? \n",
    "\n",
    "Write a code in python to solve this problem"
   ]
  },
  {
   "cell_type": "code",
   "execution_count": 29,
   "metadata": {},
   "outputs": [
    {
     "data": {
      "text/plain": [
       "0.022313016014842986"
      ]
     },
     "execution_count": 29,
     "metadata": {},
     "output_type": "execute_result"
    }
   ],
   "source": [
    "# your answer here\n",
    "# Hint: This is same as saying P(x<15)\n"
   ]
  },
  {
   "cell_type": "markdown",
   "metadata": {},
   "source": [
    "What is the probability that the customer will spend more than 15 minutes"
   ]
  },
  {
   "cell_type": "code",
   "execution_count": 32,
   "metadata": {},
   "outputs": [
    {
     "ename": "NameError",
     "evalue": "name 'exp_dist' is not defined",
     "output_type": "error",
     "traceback": [
      "\u001b[1;31m---------------------------------------------------------------------------\u001b[0m",
      "\u001b[1;31mNameError\u001b[0m                                 Traceback (most recent call last)",
      "\u001b[1;32mc:\\Users\\fhernandezcortez\\Documents\\mm\\Ironhack\\Modulo2\\lab-continuous-probability-distribution\\your-code\\main.ipynb Cell 30'\u001b[0m in \u001b[0;36m<cell line: 2>\u001b[1;34m()\u001b[0m\n\u001b[0;32m      <a href='vscode-notebook-cell:/c%3A/Users/fhernandezcortez/Documents/mm/Ironhack/Modulo2/lab-continuous-probability-distribution/your-code/main.ipynb#ch0000029?line=0'>1</a>\u001b[0m \u001b[39m# your answer here\u001b[39;00m\n\u001b[1;32m----> <a href='vscode-notebook-cell:/c%3A/Users/fhernandezcortez/Documents/mm/Ironhack/Modulo2/lab-continuous-probability-distribution/your-code/main.ipynb#ch0000029?line=1'>2</a>\u001b[0m tama\u001b[39m=\u001b[39mexp_dist(\u001b[39m10\u001b[39m,\u001b[39m1000\u001b[39m)\n",
      "\u001b[1;31mNameError\u001b[0m: name 'exp_dist' is not defined"
     ]
    }
   ],
   "source": [
    "# your answer here"
   ]
  },
  {
   "cell_type": "code",
   "execution_count": null,
   "metadata": {},
   "outputs": [],
   "source": []
  }
 ],
 "metadata": {
  "kernelspec": {
   "display_name": "Python 3.9.12 ('base')",
   "language": "python",
   "name": "python3"
  },
  "language_info": {
   "codemirror_mode": {
    "name": "ipython",
    "version": 3
   },
   "file_extension": ".py",
   "mimetype": "text/x-python",
   "name": "python",
   "nbconvert_exporter": "python",
   "pygments_lexer": "ipython3",
   "version": "3.9.12"
  },
  "vscode": {
   "interpreter": {
    "hash": "aa312d4c887fa677f565e7f94d25e9c28ea5c2a3c7d98c86ca69bb28e8416d37"
   }
  }
 },
 "nbformat": 4,
 "nbformat_minor": 2
}
