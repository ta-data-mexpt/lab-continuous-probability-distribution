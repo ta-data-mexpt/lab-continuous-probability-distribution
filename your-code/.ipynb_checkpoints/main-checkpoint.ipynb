{
 "cells": [
  {
   "cell_type": "markdown",
   "metadata": {
    "tags": []
   },
   "source": [
    "# Before your start:\n",
    "\n",
    "    Read the README.md file\n",
    "    Comment as much as you can and use the resources (README.md file)\n",
    "    Happy learning!"
   ]
  },
  {
   "cell_type": "markdown",
   "metadata": {},
   "source": [
    "In this exercise, we  will generate random numbers from the continuous disributions we learned in the lesson. There are two ways to generate random numbers:\n",
    "\n",
    "1. Using the numpy library \n",
    "1. using the Scipy library \n",
    "\n",
    "Use either or both of the lbraries in this exercise."
   ]
  },
  {
   "cell_type": "code",
   "execution_count": 1,
   "metadata": {},
   "outputs": [],
   "source": [
    "import numpy as np"
   ]
  },
  {
   "cell_type": "markdown",
   "metadata": {},
   "source": [
    "## Uniform Distribution\n",
    "\n",
    "To generate uniform random numbers between any two given values using scipy, we can either use the following code or the code that we have\n",
    "discussed in class:"
   ]
  },
  {
   "cell_type": "code",
   "execution_count": 56,
   "metadata": {},
   "outputs": [
    {
     "name": "stdout",
     "output_type": "stream",
     "text": [
      "[2.5881308  2.89771373 2.89153073 2.81583748 2.03588959 2.69175758\n",
      " 2.37868094 2.51851095 2.65795147 2.19385022]\n"
     ]
    }
   ],
   "source": [
    "from scipy.stats import uniform\n",
    "x = uniform.rvs(size=10, random_state = 20)\n",
    "a = 2\n",
    "b = 3\n",
    "randoms  = a + (b-a)*x\n",
    "print(randoms)"
   ]
  },
  {
   "cell_type": "markdown",
   "metadata": {},
   "source": [
    "**Your task:**\n",
    "\n",
    "1. Based on the code above, write a function that generates uniformly distributed random numbers. There are several requirements for your function:\n",
    "    * It should accept 3 parameters: \n",
    "        * `bottom` - the lower boundary of the generated numbers\n",
    "        * `ceiling` - the upper boundary of the generated numbers\n",
    "        * `count` - how many numbers to generate\n",
    "    * It should return an array of uniformly distributed random numbers\n",
    "\n",
    "1. Call your function with 2 sets of params below:\n",
    "    * bottom=10, ceiling=15, count=100\n",
    "    * bottom=10, ceiling=60, count=1,000\n",
    "\n",
    "1. Plot the uniform distributions generated above using histograms, where x axis is the value and y axis is the count. Let the histogram's number of bins be 10.\n",
    "\n",
    "Your output should look like below:\n",
    "\n",
    "![uniform distribution](ud.png)"
   ]
  },
  {
   "cell_type": "code",
   "execution_count": 80,
   "metadata": {},
   "outputs": [],
   "source": [
    "#1\n",
    "def uni(bottom, ceiling, count):\n",
    "    x = uniform.rvs(loc=bottom, scale=(ceiling-bottom), size=count)\n",
    "    return x"
   ]
  },
  {
   "cell_type": "code",
   "execution_count": 82,
   "metadata": {
    "collapsed": true,
    "jupyter": {
     "outputs_hidden": true
    },
    "tags": []
   },
   "outputs": [
    {
     "data": {
      "text/plain": [
       "array([13.54538999, 12.5192111 , 11.73487427, 14.70986045, 11.17539143,\n",
       "       11.00896544, 12.45144919, 13.11086403, 14.48543929, 13.26437514,\n",
       "       12.0995759 , 10.6794777 , 10.52002344, 13.10879137, 10.80019782,\n",
       "       12.7968012 , 14.06473731, 10.53434742, 10.38381546, 13.67737878,\n",
       "       14.55623205, 12.64685733, 10.94531947, 12.34328851, 14.67722055,\n",
       "       10.98879137, 13.75925907, 10.61450058, 14.65198571, 12.68213976,\n",
       "       13.28562844, 10.43609965, 14.74327902, 13.43480337, 11.77516446,\n",
       "       11.85188529, 11.05760306, 10.08010444, 12.51320595, 13.98113505,\n",
       "       10.97063138, 11.96595377, 12.90124455, 12.06749814, 13.51327696,\n",
       "       11.04129465, 14.8252964 , 14.7477091 , 11.68242192, 11.69982471,\n",
       "       12.49795024, 11.37305189, 12.00291409, 10.74093771, 10.43993362,\n",
       "       10.16347644, 14.44028755, 12.08202757, 13.76712869, 14.41152085,\n",
       "       10.88962103, 10.01297436, 14.61930816, 14.5103775 , 11.91097626,\n",
       "       13.8494354 , 10.21274541, 10.47800525, 12.66977718, 14.19869436,\n",
       "       14.29829633, 13.10956233, 10.03256062, 13.80066144, 13.64654607,\n",
       "       13.33967241, 13.28537643, 11.85448865, 12.46583561, 11.86944226,\n",
       "       10.94954332, 14.16924606, 13.75653703, 13.98501673, 12.55867053,\n",
       "       13.58867541, 13.75700643, 14.8350632 , 13.73193777, 10.02147984,\n",
       "       14.47533449, 12.23675737, 11.033918  , 10.03973225, 12.9166449 ,\n",
       "       14.89237459, 11.72758103, 13.17731113, 12.53451981, 13.76692125])"
      ]
     },
     "execution_count": 82,
     "metadata": {},
     "output_type": "execute_result"
    }
   ],
   "source": [
    "uni(10, 15, 100)"
   ]
  },
  {
   "cell_type": "code",
   "execution_count": 83,
   "metadata": {
    "collapsed": true,
    "jupyter": {
     "outputs_hidden": true
    },
    "tags": []
   },
   "outputs": [
    {
     "data": {
      "text/plain": [
       "array([28.33460416, 53.4588195 , 50.00888952, 10.53620292, 22.58148565,\n",
       "       20.73761688, 18.73488449, 10.1830708 , 41.62434807, 52.33337617,\n",
       "       46.5090039 , 49.94273005, 34.88349988, 21.35560441, 33.03880545,\n",
       "       11.31838946, 16.42661485, 44.57458958, 50.76978132, 51.71336526,\n",
       "       17.40076839, 42.59281178, 44.35831167, 22.21304217, 17.65261904,\n",
       "       35.67833619, 23.00173316, 28.12222014, 43.32841367, 34.64110479,\n",
       "       25.81565603, 45.63658194, 49.51989095, 43.44413599, 19.27113139,\n",
       "       28.20968973, 14.06073383, 55.29950311, 44.94209172, 59.48712743,\n",
       "       19.33833669, 30.5693877 , 15.08920994, 22.55125641, 30.63018171,\n",
       "       50.96925861, 54.87974937, 35.75354713, 28.41348211, 34.75532146,\n",
       "       22.1076251 , 26.94406754, 14.50188399, 47.1253806 , 18.14509094,\n",
       "       27.3519754 , 16.39309822, 11.90031717, 36.38968681, 15.36337074,\n",
       "       59.6904547 , 30.08780342, 58.08801329, 41.02306326, 57.84208901,\n",
       "       29.5599916 , 50.81905755, 28.15353482, 44.69775695, 16.78513865,\n",
       "       53.35861784, 23.47704255, 30.24975994, 18.61975725, 21.27176485,\n",
       "       39.51897899, 51.50146615, 59.23251235, 20.9377275 , 12.27203163,\n",
       "       42.09681235, 19.04405714, 50.98464813, 17.91298623, 18.38936752,\n",
       "       32.98795532, 39.81079902, 54.62106888, 52.56727684, 25.7413818 ,\n",
       "       49.08198822, 43.12125682, 30.49218856, 38.88281148, 46.7528457 ,\n",
       "       33.17673472, 29.03334128, 27.08429887, 16.5309953 , 31.46779878,\n",
       "       23.00871754, 18.33210649, 19.94842634, 49.47432388, 48.05098334,\n",
       "       59.37375824, 28.73707705, 15.27025321, 19.46869416, 56.97154593,\n",
       "       46.12145228, 37.95262415, 34.596659  , 47.35826074, 48.35711707,\n",
       "       48.76184002, 32.93869015, 40.1904143 , 56.39290413, 20.90932909,\n",
       "       41.88638962, 22.4974472 , 58.66617258, 41.24208401, 13.31525736,\n",
       "       11.02809401, 36.10247789, 50.0383391 , 11.7560213 , 15.61776106,\n",
       "       48.07577003, 13.26143526, 49.99892868, 27.33497356, 16.95301667,\n",
       "       11.88548152, 41.97929061, 13.2684821 , 13.60373366, 19.15535298,\n",
       "       49.12180111, 32.94555302, 22.35663109, 53.75900986, 37.78361165,\n",
       "       59.59256792, 13.79979057, 28.1204179 , 23.15144208, 52.34926041,\n",
       "       35.48302674, 35.1245188 , 48.37011581, 10.55552553, 37.1496902 ,\n",
       "       50.32316639, 58.92557065, 34.45162511, 56.78427551, 49.21581837,\n",
       "       34.88084374, 45.82070302, 47.78450586, 56.49177244, 55.58430356,\n",
       "       12.13906092, 48.02248018, 49.74127889, 21.37288454, 52.55942881,\n",
       "       18.13332796, 30.40322519, 21.58384453, 59.71719381, 41.48620613,\n",
       "       53.22477143, 29.52729345, 24.02343407, 29.48641554, 17.91098778,\n",
       "       27.56212182, 25.8414694 , 12.96800135, 36.47416548, 50.03841103,\n",
       "       58.23293436, 36.09226155, 16.42067683, 50.03438216, 11.15378099,\n",
       "       41.84955101, 26.45954388, 41.3479666 , 49.875954  , 33.06425042,\n",
       "       56.49239238, 18.62269203, 13.09839161, 10.20875538, 17.21170529,\n",
       "       33.27937138, 54.71971376, 29.55587574, 17.17210649, 39.24833302,\n",
       "       53.65270253, 55.89557136, 59.03176646, 22.59256568, 43.91873374,\n",
       "       27.02986011, 58.5647304 , 38.97097072, 33.42989656, 51.29919269,\n",
       "       41.48373424, 35.13747484, 29.47084099, 30.13876286, 50.313121  ,\n",
       "       35.7920214 , 22.8133133 , 16.94684704, 20.67390852, 30.65162041,\n",
       "       25.70637239, 46.05238666, 12.44517842, 28.85623079, 20.26626193,\n",
       "       43.73788539, 44.24384429, 13.25048713, 58.7250969 , 23.39117237,\n",
       "       39.91008683, 30.06682021, 45.07687932, 51.76294804, 59.48783273,\n",
       "       16.27929437, 24.85330975, 59.46744247, 19.99033177, 38.48874783,\n",
       "       44.70814825, 16.48241354, 11.0313123 , 42.29126696, 13.49890341,\n",
       "       12.21847274, 44.14429878, 58.10301156, 41.56720174, 32.93991858,\n",
       "       27.64373779, 47.55267012, 24.96972656, 20.12766059, 48.03889649,\n",
       "       57.33364071, 30.6910118 , 31.82520543, 28.13225708, 12.21152869,\n",
       "       23.57199601, 50.36686919, 18.78352332, 32.69681461, 26.97696809,\n",
       "       31.55105923, 31.35915266, 15.17799999, 22.51278554, 28.32996076,\n",
       "       32.85833176, 59.38927525, 20.27243447, 29.14495488, 15.77949707,\n",
       "       37.04832869, 15.64070579, 52.66173824, 25.37340111, 25.70597008,\n",
       "       57.30066639, 50.36056002, 19.97618577, 10.36066331, 56.5100613 ,\n",
       "       25.66760045, 26.86649871, 50.22742574, 27.86864567, 15.62568254,\n",
       "       33.57653327, 26.03775737, 49.49925512, 34.02643913, 27.20242709,\n",
       "       56.8730641 , 11.87542837, 18.74933616, 45.81164657, 24.4144617 ,\n",
       "       57.11110222, 13.71233003, 52.81496132, 39.04518025, 35.88928148,\n",
       "       57.5770606 , 58.42648055, 32.46889569, 30.20332207, 29.94989687,\n",
       "       14.13049422, 48.43306831, 10.72214171, 29.05763555, 28.39854729,\n",
       "       52.881967  , 45.79333892, 56.44631769, 33.78510425, 37.64790353,\n",
       "       17.22363591, 41.68913449, 39.96383088, 11.68667981, 13.61418283,\n",
       "       57.78311906, 36.0340273 , 34.29554152, 38.78946987, 28.5887079 ,\n",
       "       15.66373978, 18.17040343, 16.41899764, 21.09882063, 55.36815118,\n",
       "       50.91534172, 20.35803679, 45.81803187, 44.16944132, 28.86582255,\n",
       "       49.00140949, 10.56496754, 30.49815249, 34.36931206, 24.50999233,\n",
       "       56.34888051, 46.74919045, 23.69151454, 42.65068543, 23.33626205,\n",
       "       32.4487716 , 59.9790797 , 44.67456703, 43.69418679, 20.85107936,\n",
       "       48.05638359, 31.45396055, 55.0327426 , 31.56531922, 15.90472585,\n",
       "       14.47796887, 58.38115472, 16.10473281, 17.89140307, 22.2270661 ,\n",
       "       44.3627641 , 50.57088781, 14.69100691, 31.0134285 , 10.41719662,\n",
       "       17.14210531, 53.04571208, 44.76913238, 50.92762898, 45.18899827,\n",
       "       59.9575554 , 39.34783309, 58.69816488, 41.75002456, 42.83089755,\n",
       "       27.42888943, 18.75156706, 41.01745862, 12.9196666 , 59.44380373,\n",
       "       24.63999175, 14.37342256, 11.30056045, 26.19964323, 57.20863316,\n",
       "       46.63432909, 54.79247761, 36.65158646, 28.68013164, 29.85801797,\n",
       "       18.25152927, 47.49164238, 42.92279932, 30.89640931, 19.5454455 ,\n",
       "       42.40452879, 38.02032236, 21.06984872, 12.64458559, 11.98329938,\n",
       "       18.45363889, 21.3849233 , 19.64372289, 41.03850975, 34.54786608,\n",
       "       57.41225565, 59.03277411, 35.97378583, 18.64146217, 41.49809031,\n",
       "       37.49331637, 50.30418523, 35.59624938, 52.67587996, 29.67619761,\n",
       "       12.4076857 , 20.06584674, 39.50662125, 58.22211248, 48.90889827,\n",
       "       38.03698131, 16.47319587, 10.94085594, 27.60239576, 33.81133145,\n",
       "       32.75376102, 17.77615183, 18.20304767, 11.92617315, 31.24761842,\n",
       "       55.24072975, 21.76503316, 23.0166686 , 42.09533388, 26.23209489,\n",
       "       13.11364092, 18.73698336, 28.48865978, 12.46345475, 53.4460046 ,\n",
       "       59.86351384, 22.38642094, 36.19653824, 40.53204783, 30.48422554,\n",
       "       24.37945896, 14.48303398, 12.6589062 , 53.44063638, 37.46746514,\n",
       "       57.15507444, 34.69069751, 46.09586405, 46.30118879, 41.19920729,\n",
       "       10.66270934, 48.9102371 , 37.27439817, 35.63690671, 43.74012905,\n",
       "       18.36763846, 46.53024991, 41.39549019, 11.51944509, 49.50104571,\n",
       "       12.62841058, 45.49898506, 25.9176786 , 24.76502654, 57.74470035,\n",
       "       20.8173502 , 46.22734657, 58.11393406, 10.97580409, 31.22050863,\n",
       "       45.97012432, 17.67891318, 15.5990051 , 32.11698367, 20.20033772,\n",
       "       40.35579707, 45.84175114, 22.96551265, 50.13999199, 43.13326056,\n",
       "       33.21416215, 43.94408291, 28.28978676, 38.95993735, 46.34771978,\n",
       "       29.64397285, 45.61810445, 54.2782172 , 59.02304139, 13.83458796,\n",
       "       16.129533  , 12.85884184, 22.0370161 , 14.54777381, 35.74499287,\n",
       "       56.69198841, 10.22914448, 21.25073728, 29.53792825, 49.01409842,\n",
       "       36.68744467, 43.75878302, 18.15554346, 30.74093567, 54.53023051,\n",
       "       59.99411922, 33.98042023, 14.07631602, 38.66378626, 42.48234595,\n",
       "       51.81105489, 30.75729998, 16.36566379, 50.19331394, 26.67922234,\n",
       "       43.64689783, 43.65926242, 35.91158625, 29.45660722, 38.06272741,\n",
       "       23.42523968, 42.47144551, 15.77742532, 20.9080391 , 32.80327516,\n",
       "       55.51573308, 17.74545542, 35.02307907, 13.25934753, 19.64292562,\n",
       "       34.40385931, 22.83313154, 25.91830992, 20.88076603, 43.66738036,\n",
       "       38.03606924, 41.83941824, 51.73892369, 43.78282064, 36.89085225,\n",
       "       33.27331919, 52.15728046, 43.21782299, 30.55259962, 28.03739845,\n",
       "       38.73600873, 51.32287701, 16.24593112, 43.06532916, 16.83887148,\n",
       "       13.63860783, 53.43159528, 54.51182719, 43.1405993 , 43.55483213,\n",
       "       17.70547408, 45.73350267, 56.87158076, 36.24434111, 10.86172985,\n",
       "       46.95588644, 42.32754176, 47.38837232, 40.74500841, 23.46329583,\n",
       "       58.74042921, 27.2517078 , 20.99901879, 29.46581569, 57.32588484,\n",
       "       33.19341323, 33.42719345, 14.02835074, 38.57102641, 34.76538681,\n",
       "       19.80500292, 25.08098121, 27.72176612, 58.14434459, 32.25414963,\n",
       "       11.26744933, 50.05599533, 15.12489026, 12.34512848, 49.93559569,\n",
       "       19.1000705 , 35.70606795, 51.37852287, 16.14921882, 10.39951459,\n",
       "       56.28493784, 34.47949966, 44.10748016, 41.87734775, 12.84914683,\n",
       "       36.95766161, 56.46251198, 57.24645872, 44.99391427, 39.05620612,\n",
       "       37.30452731, 20.51366506, 12.14586882, 41.13512569, 26.43163617,\n",
       "       30.02324378, 40.74742528, 53.74786321, 37.64530856, 49.37798273,\n",
       "       40.93859111, 56.30952323, 39.80796825, 44.54080643, 11.4816764 ,\n",
       "       52.20355269, 44.04856801, 29.15236854, 27.55902534, 36.14622155,\n",
       "       51.21377305, 21.61715212, 55.02160854, 34.97975867, 47.18686207,\n",
       "       26.95198338, 36.45407522, 52.42271428, 42.70129815, 15.46390912,\n",
       "       10.63038346, 28.96679469, 57.85467378, 12.96874177, 17.13623304,\n",
       "       52.90312157, 43.53942599, 45.75840288, 37.26544825, 57.8378424 ,\n",
       "       59.75059346, 56.57807795, 33.14468463, 31.33594291, 20.83978707,\n",
       "       34.10024601, 21.44846496, 24.86655558, 11.15792543, 27.38400726,\n",
       "       41.66743763, 21.7703879 , 37.71067922, 57.92926837, 50.95705104,\n",
       "       35.75459853, 55.80630679, 29.4530734 , 12.98943004, 52.96931073,\n",
       "       33.52565784, 49.12004085, 47.70444424, 14.14609695, 32.82242762,\n",
       "       44.74277825, 49.57686696, 24.62079943, 33.99638769, 18.13337555,\n",
       "       25.67733248, 57.09342598, 30.13897056, 11.54487337, 17.24248963,\n",
       "       32.19393416, 49.94915367, 58.5111388 , 55.00820915, 31.70471958,\n",
       "       11.07390815, 34.03082597, 16.48689134, 40.32431953, 38.3655802 ,\n",
       "       36.85826263, 15.40732213, 24.22149078, 48.05870842, 55.9115963 ,\n",
       "       40.48738126, 27.55026832, 14.69884081, 12.03717779, 55.73402833,\n",
       "       43.76199294, 26.23020743, 46.69616868, 58.13987724, 44.87299297,\n",
       "       30.52810713, 18.40053889, 48.90365417, 53.41834065, 30.46252562,\n",
       "       56.6617161 , 51.66083158, 29.93091543, 47.09091769, 15.9524548 ,\n",
       "       17.34085036, 30.07915735, 43.74757481, 46.49031486, 51.35534566,\n",
       "       40.80757034, 18.82352633, 43.97846337, 34.87387128, 54.08534011,\n",
       "       56.51201641, 29.46149068, 18.43688604, 34.42905573, 49.45343077,\n",
       "       52.50330786, 43.17899258, 50.18366332, 24.2863731 , 54.73104681,\n",
       "       46.21051358, 19.1155697 , 15.02318185, 41.80261403, 38.00431843,\n",
       "       28.92761629, 10.73471651, 10.37854549, 33.81316416, 54.99075178,\n",
       "       40.57135204, 34.35596582, 37.26336764, 39.62617702, 26.18562466,\n",
       "       39.8891347 , 43.72053148, 14.92285984, 36.90378419, 10.40283944,\n",
       "       21.78123629, 25.04899794, 28.46859103, 52.58805617, 30.0890693 ,\n",
       "       50.66304632, 13.08061105, 56.25516319, 12.25141319, 30.07462207,\n",
       "       33.63348387, 38.41726199, 31.80510482, 19.79664255, 51.23668332,\n",
       "       55.30622895, 34.3578048 , 48.79796509, 49.57108358, 57.54752045,\n",
       "       35.68445346, 49.55268644, 36.14259715, 50.34388303, 18.89936211,\n",
       "       37.69762035, 41.03257961, 50.86936132, 56.71025479, 53.3404362 ,\n",
       "       33.29649113, 47.82455525, 53.59759706, 53.77211268, 44.52128076,\n",
       "       42.33950255, 49.31702421, 30.60582295, 24.69267687, 18.08573228,\n",
       "       41.66033844, 19.34359547, 25.64131072, 23.88365903, 49.64098754,\n",
       "       53.26952455, 47.99443066, 39.57353857, 29.1526671 , 43.11943853,\n",
       "       31.98789591, 16.61500314, 47.13254839, 34.78717214, 54.57266782,\n",
       "       39.26164613, 31.6423748 , 47.17142168, 55.34684983, 37.94030916,\n",
       "       44.29366514, 50.83258161, 52.20933735, 52.53479089, 11.05307282,\n",
       "       13.96884205, 27.84340814, 56.31990319, 28.69948855, 46.49705883,\n",
       "       21.43534673, 14.84174785, 44.25546775, 35.76890421, 38.44520016,\n",
       "       47.11347445, 22.90964169, 54.82104205, 28.72919689, 42.6417247 ,\n",
       "       34.50626804, 51.66623431, 37.59888707, 31.58917952, 31.66687144,\n",
       "       10.50984854, 19.7074186 , 52.02767734, 49.84656613, 50.26008646,\n",
       "       40.23189245, 53.71418077, 45.55377323, 29.63211998, 14.79450306,\n",
       "       21.07718673, 13.06200965, 20.27311116, 57.15590777, 55.4086464 ,\n",
       "       54.17620253, 15.39215149, 11.06047363, 56.33083466, 39.53638116,\n",
       "       21.7582223 , 24.26205782, 12.98032517, 58.28983373, 12.85839192,\n",
       "       45.56302992, 22.23689937, 30.10435077, 57.34832595, 35.34069899,\n",
       "       43.5432155 , 32.50622793, 58.45546714, 57.98682586, 46.91489586,\n",
       "       51.74246654, 26.88841419, 26.91172481, 13.47037416, 17.38510138,\n",
       "       28.70353881, 16.89246727, 36.47641806, 11.81952796, 36.30316899,\n",
       "       21.61921385, 39.53824398, 47.85636227, 29.27335063, 50.39541948,\n",
       "       32.19964244, 50.61871631, 43.15347143, 50.01851218, 34.57638036,\n",
       "       55.83209386, 58.61365946, 53.13076096, 43.030569  , 10.49862708,\n",
       "       55.61446176, 44.33217086, 12.81352628, 49.4046597 , 49.05689236,\n",
       "       26.68306424, 20.02733587, 43.90015881, 33.50808074, 53.14957928,\n",
       "       18.72049039, 35.44347885, 11.71734732, 46.8814471 , 47.66791752,\n",
       "       33.27472298, 46.83727467, 25.67192572, 49.25247676, 36.02892156,\n",
       "       25.36215417, 28.1280294 , 54.31406419, 27.92442415, 50.12990507,\n",
       "       23.4101394 , 12.65283065, 31.98658554, 39.06706101, 50.48694332,\n",
       "       31.07214699, 55.36436956, 28.60220815, 58.95934673, 46.01691354,\n",
       "       52.04871338, 42.92780147, 19.35399274, 12.17615006, 40.45618205,\n",
       "       10.6338009 , 48.50289869, 49.45478108, 48.47474422, 49.43737285,\n",
       "       10.07004669, 11.61253571, 32.4897402 , 33.25787549, 30.00913753,\n",
       "       14.95666556, 25.61787647, 53.17876958, 22.77615908, 30.32355665,\n",
       "       36.95829436, 20.23435838, 22.61001692, 14.28735509, 50.35447032,\n",
       "       35.8843123 , 18.9150075 , 22.90818218, 50.4425332 , 50.11758628,\n",
       "       15.10635923, 25.63442626, 52.73792555, 37.88310505, 38.1256972 ,\n",
       "       12.09775572, 45.48198102, 39.67441103, 39.13012779, 55.65535997,\n",
       "       11.78888263, 58.79579721, 30.95901663, 23.89068857, 55.46571882,\n",
       "       45.5010679 , 50.72737619, 44.11016057, 12.38969191, 56.78409696,\n",
       "       29.75044677, 54.68946911, 32.74502259, 25.15277512, 26.99777415])"
      ]
     },
     "execution_count": 83,
     "metadata": {},
     "output_type": "execute_result"
    }
   ],
   "source": [
    "uni(10, 60, 1_000)"
   ]
  },
  {
   "cell_type": "code",
   "execution_count": 8,
   "metadata": {},
   "outputs": [],
   "source": [
    "import matplotlib.pyplot as plt"
   ]
  },
  {
   "cell_type": "code",
   "execution_count": 81,
   "metadata": {},
   "outputs": [
    {
     "data": {
      "image/png": "[encoded data removed]",
      "text/plain": [
       "<Figure size 432x288 with 2 Axes>"
      ]
     },
     "metadata": {
      "needs_background": "light"
     },
     "output_type": "display_data"
    }
   ],
   "source": [
    "#2\n",
    "fig, axis = plt.subplots(1,2, sharey=True)\n",
    "axis[0].hist(uni(bottom=10, ceiling=15, count=100))\n",
    "axis[1].hist(uni(bottom=10, ceiling=60, count=1000))\n",
    "plt.show()"
   ]
  },
  {
   "cell_type": "markdown",
   "metadata": {},
   "source": [
    "How are the two distributions different?"
   ]
  },
  {
   "cell_type": "code",
   "execution_count": null,
   "metadata": {},
   "outputs": [],
   "source": [
    "Cada una de las distribuciones tiene una cantidad de números entre los intervalos definidos.\n",
    "Una de ellas tiene un pool mucho más grande que la otra por lo que el histograma muestra valores de y más altos para cada intervalo."
   ]
  },
  {
   "cell_type": "markdown",
   "metadata": {
    "tags": []
   },
   "source": [
    "## Normal Distribution\n",
    "\n",
    "1. In the same way in the Uniform Distribution challenge, write a function that generates normally distributed random numbers.\n",
    "1. Generate 1,000 normally distributed numbers with the average of 10 and standard deviation of 1\n",
    "1. Generate 1,000 normally distributed numbers with the average of 10 and standard deviation of 50\n",
    "2. Plot the distributions of the data generated.\n",
    "\n",
    "Expected output:\n",
    "\n",
    "![normal distribution](nd.png)"
   ]
  },
  {
   "cell_type": "code",
   "execution_count": 105,
   "metadata": {},
   "outputs": [],
   "source": [
    "from scipy.stats import norm\n",
    "import math\n",
    "import numpy as np\n",
    "import matplotlib.pyplot as plt"
   ]
  },
  {
   "cell_type": "code",
   "execution_count": 108,
   "metadata": {},
   "outputs": [],
   "source": [
    "def normal(mean,stdev,x):\n",
    "    return np.random.normal(loc=mean, scale=stdev, size=x)"
   ]
  },
  {
   "cell_type": "code",
   "execution_count": 111,
   "metadata": {},
   "outputs": [
    {
     "data": {
      "image/png": "[encoded data removed]",
      "text/plain": [
       "<Figure size 432x288 with 2 Axes>"
      ]
     },
     "metadata": {
      "needs_background": "light"
     },
     "output_type": "display_data"
    }
   ],
   "source": [
    "fig, axis = plt.subplots(1,2, sharey=True)\n",
    "axis[0].hist(normal(10,1,1000), bins = 50)\n",
    "axis[1].hist(normal(10,50,1000),bins= 50);"
   ]
  },
  {
   "cell_type": "markdown",
   "metadata": {},
   "source": [
    "How are the two distributions different?"
   ]
  },
  {
   "cell_type": "code",
   "execution_count": 113,
   "metadata": {},
   "outputs": [],
   "source": [
    "# Porque su desviación estándar es diferente, y mientras mayor es la desviación estándar la curva será más ancha y plana y los datos mostrarán mayor variabilidad."
   ]
  },
  {
   "cell_type": "markdown",
   "metadata": {},
   "source": [
    "## Normal Distribution of Real Data\n",
    "\n",
    "In this challenge we are going to take a look the real data. We will use vehicles.csv file for this exercise"
   ]
  },
  {
   "cell_type": "markdown",
   "metadata": {},
   "source": [
    "First import vehicles.csv.\n",
    "Then plot the histograms for the following variables:\n",
    "\n",
    "1. Fuel Barrels/Year"
   ]
  },
  {
   "cell_type": "code",
   "execution_count": 114,
   "metadata": {},
   "outputs": [
    {
     "data": {
      "text/html": [
       "<div>\n",
       "<style scoped>\n",
       "    .dataframe tbody tr th:only-of-type {\n",
       "        vertical-align: middle;\n",
       "    }\n",
       "\n",
       "    .dataframe tbody tr th {\n",
       "        vertical-align: top;\n",
       "    }\n",
       "\n",
       "    .dataframe thead th {\n",
       "        text-align: right;\n",
       "    }\n",
       "</style>\n",
       "<table border=\"1\" class=\"dataframe\">\n",
       "  <thead>\n",
       "    <tr style=\"text-align: right;\">\n",
       "      <th></th>\n",
       "      <th>Make</th>\n",
       "      <th>Model</th>\n",
       "      <th>Year</th>\n",
       "      <th>Engine Displacement</th>\n",
       "      <th>Cylinders</th>\n",
       "      <th>Transmission</th>\n",
       "      <th>Drivetrain</th>\n",
       "      <th>Vehicle Class</th>\n",
       "      <th>Fuel Type</th>\n",
       "      <th>Fuel Barrels/Year</th>\n",
       "      <th>City MPG</th>\n",
       "      <th>Highway MPG</th>\n",
       "      <th>Combined MPG</th>\n",
       "      <th>CO2 Emission Grams/Mile</th>\n",
       "      <th>Fuel Cost/Year</th>\n",
       "    </tr>\n",
       "  </thead>\n",
       "  <tbody>\n",
       "    <tr>\n",
       "      <th>0</th>\n",
       "      <td>AM General</td>\n",
       "      <td>DJ Po Vehicle 2WD</td>\n",
       "      <td>1984</td>\n",
       "      <td>2.5</td>\n",
       "      <td>4.0</td>\n",
       "      <td>Automatic 3-spd</td>\n",
       "      <td>2-Wheel Drive</td>\n",
       "      <td>Special Purpose Vehicle 2WD</td>\n",
       "      <td>Regular</td>\n",
       "      <td>19.388824</td>\n",
       "      <td>18</td>\n",
       "      <td>17</td>\n",
       "      <td>17</td>\n",
       "      <td>522.764706</td>\n",
       "      <td>1950</td>\n",
       "    </tr>\n",
       "    <tr>\n",
       "      <th>1</th>\n",
       "      <td>AM General</td>\n",
       "      <td>FJ8c Post Office</td>\n",
       "      <td>1984</td>\n",
       "      <td>4.2</td>\n",
       "      <td>6.0</td>\n",
       "      <td>Automatic 3-spd</td>\n",
       "      <td>2-Wheel Drive</td>\n",
       "      <td>Special Purpose Vehicle 2WD</td>\n",
       "      <td>Regular</td>\n",
       "      <td>25.354615</td>\n",
       "      <td>13</td>\n",
       "      <td>13</td>\n",
       "      <td>13</td>\n",
       "      <td>683.615385</td>\n",
       "      <td>2550</td>\n",
       "    </tr>\n",
       "    <tr>\n",
       "      <th>2</th>\n",
       "      <td>AM General</td>\n",
       "      <td>Post Office DJ5 2WD</td>\n",
       "      <td>1985</td>\n",
       "      <td>2.5</td>\n",
       "      <td>4.0</td>\n",
       "      <td>Automatic 3-spd</td>\n",
       "      <td>Rear-Wheel Drive</td>\n",
       "      <td>Special Purpose Vehicle 2WD</td>\n",
       "      <td>Regular</td>\n",
       "      <td>20.600625</td>\n",
       "      <td>16</td>\n",
       "      <td>17</td>\n",
       "      <td>16</td>\n",
       "      <td>555.437500</td>\n",
       "      <td>2100</td>\n",
       "    </tr>\n",
       "    <tr>\n",
       "      <th>3</th>\n",
       "      <td>AM General</td>\n",
       "      <td>Post Office DJ8 2WD</td>\n",
       "      <td>1985</td>\n",
       "      <td>4.2</td>\n",
       "      <td>6.0</td>\n",
       "      <td>Automatic 3-spd</td>\n",
       "      <td>Rear-Wheel Drive</td>\n",
       "      <td>Special Purpose Vehicle 2WD</td>\n",
       "      <td>Regular</td>\n",
       "      <td>25.354615</td>\n",
       "      <td>13</td>\n",
       "      <td>13</td>\n",
       "      <td>13</td>\n",
       "      <td>683.615385</td>\n",
       "      <td>2550</td>\n",
       "    </tr>\n",
       "    <tr>\n",
       "      <th>4</th>\n",
       "      <td>ASC Incorporated</td>\n",
       "      <td>GNX</td>\n",
       "      <td>1987</td>\n",
       "      <td>3.8</td>\n",
       "      <td>6.0</td>\n",
       "      <td>Automatic 4-spd</td>\n",
       "      <td>Rear-Wheel Drive</td>\n",
       "      <td>Midsize Cars</td>\n",
       "      <td>Premium</td>\n",
       "      <td>20.600625</td>\n",
       "      <td>14</td>\n",
       "      <td>21</td>\n",
       "      <td>16</td>\n",
       "      <td>555.437500</td>\n",
       "      <td>2550</td>\n",
       "    </tr>\n",
       "  </tbody>\n",
       "</table>\n",
       "</div>"
      ],
      "text/plain": [
       "               Make                Model  Year  Engine Displacement  \\\n",
       "0        AM General    DJ Po Vehicle 2WD  1984                  2.5   \n",
       "1        AM General     FJ8c Post Office  1984                  4.2   \n",
       "2        AM General  Post Office DJ5 2WD  1985                  2.5   \n",
       "3        AM General  Post Office DJ8 2WD  1985                  4.2   \n",
       "4  ASC Incorporated                  GNX  1987                  3.8   \n",
       "\n",
       "   Cylinders     Transmission        Drivetrain                Vehicle Class  \\\n",
       "0        4.0  Automatic 3-spd     2-Wheel Drive  Special Purpose Vehicle 2WD   \n",
       "1        6.0  Automatic 3-spd     2-Wheel Drive  Special Purpose Vehicle 2WD   \n",
       "2        4.0  Automatic 3-spd  Rear-Wheel Drive  Special Purpose Vehicle 2WD   \n",
       "3        6.0  Automatic 3-spd  Rear-Wheel Drive  Special Purpose Vehicle 2WD   \n",
       "4        6.0  Automatic 4-spd  Rear-Wheel Drive                 Midsize Cars   \n",
       "\n",
       "  Fuel Type  Fuel Barrels/Year  City MPG  Highway MPG  Combined MPG  \\\n",
       "0   Regular          19.388824        18           17            17   \n",
       "1   Regular          25.354615        13           13            13   \n",
       "2   Regular          20.600625        16           17            16   \n",
       "3   Regular          25.354615        13           13            13   \n",
       "4   Premium          20.600625        14           21            16   \n",
       "\n",
       "   CO2 Emission Grams/Mile  Fuel Cost/Year  \n",
       "0               522.764706            1950  \n",
       "1               683.615385            2550  \n",
       "2               555.437500            2100  \n",
       "3               683.615385            2550  \n",
       "4               555.437500            2550  "
      ]
     },
     "execution_count": 114,
     "metadata": {},
     "output_type": "execute_result"
    }
   ],
   "source": [
    "import pandas as pd\n",
    "\n",
    "df = pd.read_csv('./vehicles.csv')\n",
    "df.head()"
   ]
  },
  {
   "cell_type": "code",
   "execution_count": 127,
   "metadata": {},
   "outputs": [
    {
     "data": {
      "image/png": "[encoded data removed]",
      "text/plain": [
       "<Figure size 432x288 with 1 Axes>"
      ]
     },
     "metadata": {
      "needs_background": "light"
     },
     "output_type": "display_data"
    }
   ],
   "source": [
    "df.hist('Fuel Barrels/Year', bins=100);"
   ]
  },
  {
   "cell_type": "markdown",
   "metadata": {},
   "source": [
    "2. CO2 Emission Grams/Mile "
   ]
  },
  {
   "cell_type": "code",
   "execution_count": 128,
   "metadata": {},
   "outputs": [
    {
     "data": {
      "image/png": "[encoded data removed]",
      "text/plain": [
       "<Figure size 432x288 with 1 Axes>"
      ]
     },
     "metadata": {
      "needs_background": "light"
     },
     "output_type": "display_data"
    }
   ],
   "source": [
    "df.hist('CO2 Emission Grams/Mile', bins=100);"
   ]
  },
  {
   "cell_type": "markdown",
   "metadata": {},
   "source": [
    "3. Combined MPG"
   ]
  },
  {
   "cell_type": "code",
   "execution_count": 129,
   "metadata": {},
   "outputs": [
    {
     "data": {
      "image/png": "[encoded data removed]",
      "text/plain": [
       "<Figure size 432x288 with 1 Axes>"
      ]
     },
     "metadata": {
      "needs_background": "light"
     },
     "output_type": "display_data"
    }
   ],
   "source": [
    "df.hist('Combined MPG', bins=100);"
   ]
  },
  {
   "cell_type": "markdown",
   "metadata": {},
   "source": [
    "Which one(s) of the variables are nearly normally distributed? How do you know?"
   ]
  },
  {
   "cell_type": "code",
   "execution_count": 130,
   "metadata": {},
   "outputs": [],
   "source": [
    "# Fuel Barrels/Year. Los valores van de 0 a 40 y la media está en 20 aproximadamente.\n",
    "# El 2do va de 0 a 1200 y la media está en 500 aproximadamente, es decir, los datos están más desplazados a la izq, lo mismo con el 3er gráfico."
   ]
  },
  {
   "cell_type": "markdown",
   "metadata": {},
   "source": [
    "## Exponential Distribution"
   ]
  },
  {
   "cell_type": "markdown",
   "metadata": {},
   "source": [
    "1. Using `numpy.random.exponential`, create a function that returns a list of numbers exponentially distributed with the mean of 10. \n",
    "\n",
    "1. Use the function to generate two number sequences with the size of 1 and 100.\n",
    "\n",
    "1. Plot the distributions as histograms with the nubmer of bins as 100.\n",
    "\n",
    "Your output should look like below:\n",
    "\n",
    "![exponential distribution](ed.png)"
   ]
  },
  {
   "cell_type": "markdown",
   "metadata": {},
   "source": [
    "How are the two distributions different?"
   ]
  },
  {
   "cell_type": "code",
   "execution_count": null,
   "metadata": {},
   "outputs": [],
   "source": [
    "# your answer here"
   ]
  },
  {
   "cell_type": "markdown",
   "metadata": {},
   "source": [
    "## Exponential Distribution of Real Data\n",
    "\n",
    "Suppose that the amount of time one spends in a bank is exponentially distributed with mean as 10 minutes (i.e. λ = 1/10). What is the probability that a customer will spend less than fifteen minutes in the bank? \n",
    "\n",
    "Write a code in python to solve this problem"
   ]
  },
  {
   "cell_type": "code",
   "execution_count": 141,
   "metadata": {},
   "outputs": [],
   "source": [
    "# Hint: This is same as saying P(x<15)"
   ]
  },
  {
   "cell_type": "code",
   "execution_count": 144,
   "metadata": {},
   "outputs": [
    {
     "data": {
      "text/plain": [
       "0.022313016014842982"
      ]
     },
     "execution_count": 144,
     "metadata": {},
     "output_type": "execute_result"
    }
   ],
   "source": [
    "fifteen_minutes = 1/10*math.exp(-15/10)\n",
    "fifteen_minutes"
   ]
  },
  {
   "cell_type": "markdown",
   "metadata": {},
   "source": [
    "What is the probability that the customer will spend more than 15 minutes"
   ]
  },
  {
   "cell_type": "code",
   "execution_count": 145,
   "metadata": {},
   "outputs": [
    {
     "data": {
      "text/plain": [
       "0.977686983985157"
      ]
     },
     "execution_count": 145,
     "metadata": {},
     "output_type": "execute_result"
    }
   ],
   "source": [
    "1 - fifteen_minutes"
   ]
  }
 ],
 "metadata": {
  "kernelspec": {
   "display_name": "Python 3 (ipykernel)",
   "language": "python",
   "name": "python3"
  },
  "language_info": {
   "codemirror_mode": {
    "name": "ipython",
    "version": 3
   },
   "file_extension": ".py",
   "mimetype": "text/x-python",
   "name": "python",
   "nbconvert_exporter": "python",
   "pygments_lexer": "ipython3",
   "version": "3.9.7"
  }
 },
 "nbformat": 4,
 "nbformat_minor": 4
}
