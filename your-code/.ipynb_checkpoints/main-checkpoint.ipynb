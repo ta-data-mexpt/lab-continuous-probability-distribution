{
 "cells": [
  {
   "cell_type": "markdown",
   "metadata": {},
   "source": [
    "# Before your start:\n",
    "\n",
    "    Read the README.md file\n",
    "    Comment as much as you can and use the resources (README.md file)\n",
    "    Happy learning!"
   ]
  },
  {
   "cell_type": "markdown",
   "metadata": {},
   "source": [
    "In this exercise, we  will generate random numbers from the continuous disributions we learned in the lesson. There are two ways to generate random numbers:\n",
    "\n",
    "1. Using the numpy library \n",
    "1. using the Scipy library \n",
    "\n",
    "Use either or both of the lbraries in this exercise."
   ]
  },
  {
   "cell_type": "markdown",
   "metadata": {},
   "source": [
    "## Uniform Distribution\n",
    "\n",
    "To generate uniform random numbers between any two given values using scipy, we can either use the following code or the code that we have\n",
    "discussed in class:"
   ]
  },
  {
   "cell_type": "code",
   "execution_count": 1,
   "metadata": {},
   "outputs": [
    {
     "name": "stdout",
     "output_type": "stream",
     "text": [
      "[2.68495543 2.21802948 2.37844634 2.90610613 2.68637084 2.70130866\n",
      " 2.33973124 2.18151357 2.07442565 2.03641632]\n"
     ]
    }
   ],
   "source": [
    "from scipy.stats import uniform\n",
    "x = uniform.rvs(size=10)\n",
    "a = 2\n",
    "b = 3\n",
    "randoms  = a + (b-a)*x\n",
    "print(randoms)"
   ]
  },
  {
   "cell_type": "code",
   "execution_count": 5,
   "metadata": {},
   "outputs": [],
   "source": [
    "import numpy as np\n",
    "import matplotlib.pyplot as plt"
   ]
  },
  {
   "cell_type": "markdown",
   "metadata": {},
   "source": [
    "**Your task:**\n",
    "\n",
    "1. Based on the code above, write a function that generates uniformly distributed random numbers. There are several requirements for your function:\n",
    "    * It should accept 3 parameters: \n",
    "        * `bottom` - the lower boundary of the generated numbers\n",
    "        * `ceiling` - the upper boundary of the generated numbers\n",
    "        * `count` - how many numbers to generate\n",
    "    * It should return an array of uniformly distributed random numbers\n",
    "\n",
    "1. Call your function with 2 sets of params below:\n",
    "    * bottom=10, ceiling=15, count=100\n",
    "    * bottom=10, ceiling=60, count=1,000\n",
    "\n",
    "1. Plot the uniform distributions generated above using histograms, where x axis is the value and y axis is the count. Let the histogram's number of bins be 10.\n",
    "\n",
    "Your output should look like below:\n",
    "\n",
    "![uniform distribution](ud.png)"
   ]
  },
  {
   "cell_type": "code",
   "execution_count": 6,
   "metadata": {},
   "outputs": [],
   "source": [
    "# your code here\n",
    "def uni (bottom, ceiling, count):\n",
    "    return plt.hist(uniform.rvs(size = count, loc = bottom, scale =(ceiling-bottom)))"
   ]
  },
  {
   "cell_type": "code",
   "execution_count": 13,
   "metadata": {},
   "outputs": [
    {
     "data": {
      "image/png": "[encoded data removed]",
      "text/plain": [
       "<Figure size 432x288 with 2 Axes>"
      ]
     },
     "metadata": {
      "needs_background": "light"
     },
     "output_type": "display_data"
    }
   ],
   "source": [
    "fig= plt.figure()\n",
    "plt.subplot(1,2,1)\n",
    "uni(10,15,100)\n",
    "plt.yticks(range(0,120,20))\n",
    "plt.subplot(1,2,2)\n",
    "uni(10,60,1000)"
   ]
  },
  {
   "cell_type": "markdown",
   "metadata": {},
   "source": [
    "How are the two distributions different?"
   ]
  },
  {
   "cell_type": "code",
   "execution_count": null,
   "metadata": {},
   "outputs": [],
   "source": [
    "# your answer below\n",
    "El valor de los valores de muestra de la segunda distribución es mucho más alto que los de la primera"
   ]
  },
  {
   "cell_type": "markdown",
   "metadata": {},
   "source": [
    "## Normal Distribution\n",
    "\n",
    "1. In the same way in the Uniform Distribution challenge, write a function that generates normally distributed random numbers.\n",
    "1. Generate 1,000 normally distributed numbers with the average of 10 and standard deviation of 1\n",
    "1. Generate 1,000 normally distributed numbers with the average of 10 and standard deviation of 50\n",
    "2. Plot the distributions of the data generated.\n",
    "\n",
    "Expected output:\n",
    "\n",
    "![normal distribution](nd.png)"
   ]
  },
  {
   "cell_type": "code",
   "execution_count": 14,
   "metadata": {},
   "outputs": [],
   "source": [
    "# your code here\n",
    "from scipy.stats import norm"
   ]
  },
  {
   "cell_type": "code",
   "execution_count": 29,
   "metadata": {},
   "outputs": [],
   "source": [
    "def norma (average, stdv, count):\n",
    "    return plt.hist(norm.rvs(average,stdv,count), bins=60)"
   ]
  },
  {
   "cell_type": "code",
   "execution_count": 30,
   "metadata": {},
   "outputs": [
    {
     "data": {
      "text/plain": [
       "(array([ 2.,  1.,  2.,  1.,  3.,  7.,  7.,  5.,  4., 12., 17., 11., 10.,\n",
       "        17., 15., 33., 19., 19., 21., 36., 32., 38., 31., 42., 44., 49.,\n",
       "        40., 50., 43., 37., 35., 41., 33., 29., 32., 36., 19., 15., 14.,\n",
       "        21., 17., 10., 11.,  9.,  6.,  5.,  4.,  3.,  2.,  2.,  1.,  2.,\n",
       "         1.,  0.,  0.,  0.,  2.,  1.,  0.,  1.]),\n",
       " array([-130.73981257, -125.48850125, -120.23718993, -114.98587861,\n",
       "        -109.7345673 , -104.48325598,  -99.23194466,  -93.98063334,\n",
       "         -88.72932203,  -83.47801071,  -78.22669939,  -72.97538807,\n",
       "         -67.72407676,  -62.47276544,  -57.22145412,  -51.9701428 ,\n",
       "         -46.71883149,  -41.46752017,  -36.21620885,  -30.96489753,\n",
       "         -25.71358622,  -20.4622749 ,  -15.21096358,   -9.95965226,\n",
       "          -4.70834095,    0.54297037,    5.79428169,   11.04559301,\n",
       "          16.29690432,   21.54821564,   26.79952696,   32.05083828,\n",
       "          37.30214959,   42.55346091,   47.80477223,   53.05608355,\n",
       "          58.30739486,   63.55870618,   68.8100175 ,   74.06132882,\n",
       "          79.31264013,   84.56395145,   89.81526277,   95.06657409,\n",
       "         100.3178854 ,  105.56919672,  110.82050804,  116.07181936,\n",
       "         121.32313067,  126.57444199,  131.82575331,  137.07706463,\n",
       "         142.32837594,  147.57968726,  152.83099858,  158.0823099 ,\n",
       "         163.33362121,  168.58493253,  173.83624385,  179.08755517,\n",
       "         184.33886648]),\n",
       " <BarContainer object of 60 artists>)"
      ]
     },
     "execution_count": 30,
     "metadata": {},
     "output_type": "execute_result"
    },
    {
     "data": {
      "image/png": "[encoded data removed]",
      "text/plain": [
       "<Figure size 432x288 with 2 Axes>"
      ]
     },
     "metadata": {
      "needs_background": "light"
     },
     "output_type": "display_data"
    }
   ],
   "source": [
    "fig= plt.figure()\n",
    "plt.subplot(1,2,1)\n",
    "norma(10,1,1000)\n",
    "#plt.yticks(range(0,60,20))\n",
    "plt.subplot(1,2,2)\n",
    "norma(10,50,1000)"
   ]
  },
  {
   "cell_type": "markdown",
   "metadata": {},
   "source": [
    "How are the two distributions different?"
   ]
  },
  {
   "cell_type": "code",
   "execution_count": null,
   "metadata": {},
   "outputs": [],
   "source": [
    "# your answer below\n",
    "Los valores de muestra de la segunda distrubución pueden tomar valores mucho más alejados de la media de 10, a diferencia de la primra donde solo se pueden alejar un par de números"
   ]
  },
  {
   "cell_type": "markdown",
   "metadata": {},
   "source": [
    "## Normal Distribution of Real Data\n",
    "\n",
    "In this challenge we are going to take a look the real data. We will use vehicles.csv file for this exercise"
   ]
  },
  {
   "cell_type": "code",
   "execution_count": 32,
   "metadata": {},
   "outputs": [],
   "source": [
    "import pandas as pd"
   ]
  },
  {
   "cell_type": "markdown",
   "metadata": {},
   "source": [
    "First import vehicles.csv.\n",
    "Then plot the histograms for the following variables:\n",
    "\n",
    "1. Fuel Barrels/Year"
   ]
  },
  {
   "cell_type": "code",
   "execution_count": 33,
   "metadata": {},
   "outputs": [],
   "source": [
    "# your code here\n",
    "fuel=pd.read_csv('vehicles.csv')"
   ]
  },
  {
   "cell_type": "code",
   "execution_count": 40,
   "metadata": {},
   "outputs": [
    {
     "data": {
      "text/plain": [
       "<AxesSubplot:>"
      ]
     },
     "execution_count": 40,
     "metadata": {},
     "output_type": "execute_result"
    },
    {
     "data": {
      "image/png": "[encoded data removed]",
      "text/plain": [
       "<Figure size 432x288 with 1 Axes>"
      ]
     },
     "metadata": {
      "needs_background": "light"
     },
     "output_type": "display_data"
    }
   ],
   "source": [
    "fuel['Fuel Barrels/Year'].hist(bins=50)"
   ]
  },
  {
   "cell_type": "markdown",
   "metadata": {},
   "source": [
    "2. CO2 Emission Grams/Mile "
   ]
  },
  {
   "cell_type": "code",
   "execution_count": 41,
   "metadata": {},
   "outputs": [
    {
     "data": {
      "text/plain": [
       "<AxesSubplot:>"
      ]
     },
     "execution_count": 41,
     "metadata": {},
     "output_type": "execute_result"
    },
    {
     "data": {
      "image/png": "[encoded data removed]",
      "text/plain": [
       "<Figure size 432x288 with 1 Axes>"
      ]
     },
     "metadata": {
      "needs_background": "light"
     },
     "output_type": "display_data"
    }
   ],
   "source": [
    "# your code here\n",
    "fuel['CO2 Emission Grams/Mile'].hist(bins=50)"
   ]
  },
  {
   "cell_type": "markdown",
   "metadata": {},
   "source": [
    "3. Combined MPG"
   ]
  },
  {
   "cell_type": "code",
   "execution_count": 42,
   "metadata": {},
   "outputs": [
    {
     "data": {
      "text/plain": [
       "<AxesSubplot:>"
      ]
     },
     "execution_count": 42,
     "metadata": {},
     "output_type": "execute_result"
    },
    {
     "data": {
      "image/png": "[encoded data removed]",
      "text/plain": [
       "<Figure size 432x288 with 1 Axes>"
      ]
     },
     "metadata": {
      "needs_background": "light"
     },
     "output_type": "display_data"
    }
   ],
   "source": [
    "# your code here\n",
    "fuel['Combined MPG'].hist(bins=50)"
   ]
  },
  {
   "cell_type": "markdown",
   "metadata": {},
   "source": [
    "Which one(s) of the variables are nearly normally distributed? How do you know?"
   ]
  },
  {
   "cell_type": "code",
   "execution_count": null,
   "metadata": {},
   "outputs": [],
   "source": [
    "# your answer here\n",
    "Fuel Barrels/Year ya que la forma de los datos se mantiene casi simétrica de ambos lados"
   ]
  },
  {
   "cell_type": "markdown",
   "metadata": {},
   "source": [
    "## Exponential Distribution"
   ]
  },
  {
   "cell_type": "markdown",
   "metadata": {},
   "source": [
    "1. Using `numpy.random.exponential`, create a function that returns a list of numbers exponentially distributed with the mean of 10. \n",
    "\n",
    "1. Use the function to generate two number sequences with the size of 1 and 100.\n",
    "\n",
    "1. Plot the distributions as histograms with the nubmer of bins as 100.\n",
    "\n",
    "Your output should look like below:\n",
    "\n",
    "![exponential distribution](ed.png)"
   ]
  },
  {
   "cell_type": "code",
   "execution_count": 51,
   "metadata": {},
   "outputs": [],
   "source": [
    "# your code here\n",
    "import numpy as np"
   ]
  },
  {
   "cell_type": "code",
   "execution_count": 52,
   "metadata": {},
   "outputs": [],
   "source": [
    "def expo(mean, size):\n",
    "    return np.random.exponential(mean,size)"
   ]
  },
  {
   "cell_type": "code",
   "execution_count": 54,
   "metadata": {},
   "outputs": [
    {
     "data": {
      "text/plain": [
       "(array([97., 92., 76., 78., 75., 65., 53., 54., 45., 32., 31., 27., 26.,\n",
       "        31., 23., 25., 11., 13., 15., 22., 14., 10.,  4.,  6., 11.,  5.,\n",
       "         9.,  1.,  5.,  6.,  9.,  4.,  2.,  3.,  2.,  3.,  1.,  0.,  3.,\n",
       "         0.,  1.,  0.,  0.,  0.,  0.,  0.,  1.,  1.,  0.,  2.,  0.,  0.,\n",
       "         1.,  0.,  1.,  0.,  0.,  0.,  0.,  1.,  0.,  0.,  0.,  0.,  0.,\n",
       "         1.,  0.,  0.,  0.,  1.,  0.,  0.,  0.,  0.,  0.,  0.,  0.,  0.,\n",
       "         0.,  0.,  0.,  0.,  0.,  0.,  0.,  0.,  0.,  0.,  0.,  0.,  0.,\n",
       "         0.,  0.,  0.,  0.,  0.,  0.,  0.,  0.,  1.]),\n",
       " array([2.74884903e-01, 1.04105584e+01, 2.05462319e+01, 3.06819054e+01,\n",
       "        4.08175789e+01, 5.09532524e+01, 6.10889259e+01, 7.12245994e+01,\n",
       "        8.13602730e+01, 9.14959465e+01, 1.01631620e+02, 1.11767293e+02,\n",
       "        1.21902967e+02, 1.32038640e+02, 1.42174314e+02, 1.52309987e+02,\n",
       "        1.62445661e+02, 1.72581335e+02, 1.82717008e+02, 1.92852682e+02,\n",
       "        2.02988355e+02, 2.13124029e+02, 2.23259702e+02, 2.33395376e+02,\n",
       "        2.43531049e+02, 2.53666723e+02, 2.63802396e+02, 2.73938070e+02,\n",
       "        2.84073743e+02, 2.94209417e+02, 3.04345090e+02, 3.14480764e+02,\n",
       "        3.24616437e+02, 3.34752111e+02, 3.44887784e+02, 3.55023458e+02,\n",
       "        3.65159131e+02, 3.75294805e+02, 3.85430478e+02, 3.95566152e+02,\n",
       "        4.05701825e+02, 4.15837499e+02, 4.25973172e+02, 4.36108846e+02,\n",
       "        4.46244519e+02, 4.56380193e+02, 4.66515866e+02, 4.76651540e+02,\n",
       "        4.86787213e+02, 4.96922887e+02, 5.07058560e+02, 5.17194234e+02,\n",
       "        5.27329907e+02, 5.37465581e+02, 5.47601254e+02, 5.57736928e+02,\n",
       "        5.67872601e+02, 5.78008275e+02, 5.88143948e+02, 5.98279622e+02,\n",
       "        6.08415295e+02, 6.18550969e+02, 6.28686642e+02, 6.38822316e+02,\n",
       "        6.48957989e+02, 6.59093663e+02, 6.69229336e+02, 6.79365010e+02,\n",
       "        6.89500683e+02, 6.99636357e+02, 7.09772030e+02, 7.19907704e+02,\n",
       "        7.30043377e+02, 7.40179051e+02, 7.50314724e+02, 7.60450398e+02,\n",
       "        7.70586071e+02, 7.80721745e+02, 7.90857418e+02, 8.00993092e+02,\n",
       "        8.11128765e+02, 8.21264439e+02, 8.31400112e+02, 8.41535786e+02,\n",
       "        8.51671459e+02, 8.61807133e+02, 8.71942806e+02, 8.82078480e+02,\n",
       "        8.92214153e+02, 9.02349827e+02, 9.12485500e+02, 9.22621174e+02,\n",
       "        9.32756847e+02, 9.42892521e+02, 9.53028194e+02, 9.63163868e+02,\n",
       "        9.73299541e+02, 9.83435215e+02, 9.93570888e+02, 1.00370656e+03,\n",
       "        1.01384224e+03]),\n",
       " <BarContainer object of 100 artists>)"
      ]
     },
     "execution_count": 54,
     "metadata": {},
     "output_type": "execute_result"
    },
    {
     "data": {
      "image/png": "[encoded data removed]",
      "text/plain": [
       "<Figure size 432x288 with 2 Axes>"
      ]
     },
     "metadata": {
      "needs_background": "light"
     },
     "output_type": "display_data"
    }
   ],
   "source": [
    "fig= plt.figure()\n",
    "plt.subplot(1,2,1)\n",
    "plt.hist(expo(1,1000),bins=100)\n",
    "plt.subplot(1,2,2)\n",
    "plt.hist(expo(100,1000),bins=100)"
   ]
  },
  {
   "cell_type": "markdown",
   "metadata": {},
   "source": [
    "How are the two distributions different?"
   ]
  },
  {
   "cell_type": "code",
   "execution_count": null,
   "metadata": {},
   "outputs": [],
   "source": [
    "# your answer here"
   ]
  },
  {
   "cell_type": "markdown",
   "metadata": {},
   "source": [
    "## Exponential Distribution of Real Data\n",
    "\n",
    "Suppose that the amount of time one spends in a bank is exponentially distributed with mean as 10 minutes (i.e. λ = 1/10). What is the probability that a customer will spend less than fifteen minutes in the bank? \n",
    "\n",
    "Write a code in python to solve this problem"
   ]
  },
  {
   "cell_type": "code",
   "execution_count": 58,
   "metadata": {},
   "outputs": [
    {
     "data": {
      "text/plain": [
       "0.7534030360583935"
      ]
     },
     "execution_count": 58,
     "metadata": {},
     "output_type": "execute_result"
    }
   ],
   "source": [
    "# your answer here\n",
    "# Hint: This is same as saying P(x<15)\n",
    "from scipy.stats import expon\n",
    "p=expon.cdf(14,scale=10)\n",
    "p"
   ]
  },
  {
   "cell_type": "markdown",
   "metadata": {},
   "source": [
    "What is the probability that the customer will spend more than 15 minutes"
   ]
  },
  {
   "cell_type": "code",
   "execution_count": null,
   "metadata": {},
   "outputs": [],
   "source": [
    "# your answer here"
   ]
  },
  {
   "cell_type": "code",
   "execution_count": 59,
   "metadata": {},
   "outputs": [
    {
     "data": {
      "text/plain": [
       "0.24659696394160646"
      ]
     },
     "execution_count": 59,
     "metadata": {},
     "output_type": "execute_result"
    }
   ],
   "source": [
    "p2=1-p\n",
    "p2"
   ]
  },
  {
   "cell_type": "code",
   "execution_count": null,
   "metadata": {},
   "outputs": [],
   "source": []
  }
 ],
 "metadata": {
  "kernelspec": {
   "display_name": "Python 3 (ipykernel)",
   "language": "python",
   "name": "python3"
  },
  "language_info": {
   "codemirror_mode": {
    "name": "ipython",
    "version": 3
   },
   "file_extension": ".py",
   "mimetype": "text/x-python",
   "name": "python",
   "nbconvert_exporter": "python",
   "pygments_lexer": "ipython3",
   "version": "3.9.7"
  }
 },
 "nbformat": 4,
 "nbformat_minor": 4
}
